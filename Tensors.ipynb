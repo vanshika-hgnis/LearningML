{
 "cells": [
  {
   "cell_type": "code",
   "execution_count": 1,
   "id": "f805b53c",
   "metadata": {},
   "outputs": [
    {
     "data": {
      "text/plain": [
       "25"
      ]
     },
     "execution_count": 1,
     "metadata": {},
     "output_type": "execute_result"
    }
   ],
   "source": [
    "x = 25\n",
    "x"
   ]
  },
  {
   "cell_type": "code",
   "execution_count": 2,
   "id": "7730da19",
   "metadata": {},
   "outputs": [
    {
     "data": {
      "text/plain": [
       "int"
      ]
     },
     "execution_count": 2,
     "metadata": {},
     "output_type": "execute_result"
    }
   ],
   "source": [
    "type(x)"
   ]
  },
  {
   "cell_type": "code",
   "execution_count": 3,
   "id": "e90ffc29",
   "metadata": {},
   "outputs": [],
   "source": [
    "y = 3\n"
   ]
  },
  {
   "cell_type": "code",
   "execution_count": 4,
   "id": "db348b25",
   "metadata": {},
   "outputs": [
    {
     "data": {
      "text/plain": [
       "28"
      ]
     },
     "execution_count": 4,
     "metadata": {},
     "output_type": "execute_result"
    }
   ],
   "source": [
    "pysum = x+y\n",
    "pysum"
   ]
  },
  {
   "cell_type": "code",
   "execution_count": 5,
   "id": "41e6e647",
   "metadata": {},
   "outputs": [
    {
     "data": {
      "text/plain": [
       "int"
      ]
     },
     "execution_count": 5,
     "metadata": {},
     "output_type": "execute_result"
    }
   ],
   "source": [
    "type(pysum)"
   ]
  },
  {
   "cell_type": "code",
   "execution_count": 6,
   "id": "2af73f12",
   "metadata": {},
   "outputs": [
    {
     "data": {
      "text/plain": [
       "float"
      ]
     },
     "execution_count": 6,
     "metadata": {},
     "output_type": "execute_result"
    }
   ],
   "source": [
    "xfloat = 25.0\n",
    "fsum = xfloat + y\n",
    "type(fsum)"
   ]
  },
  {
   "cell_type": "markdown",
   "id": "11734fa8",
   "metadata": {},
   "source": [
    "# Pytorch\n",
    "- pytorch tensors are to be pytonic -- behave like numpy arrays\n",
    "- are easier for operations on GPU\n",
    "- for automatic differenciation"
   ]
  },
  {
   "cell_type": "code",
   "execution_count": 7,
   "id": "8fa6214d",
   "metadata": {},
   "outputs": [],
   "source": [
    "import torch\n"
   ]
  },
  {
   "cell_type": "code",
   "execution_count": 8,
   "id": "21b99fd2",
   "metadata": {},
   "outputs": [
    {
     "data": {
      "text/plain": [
       "tensor(25)"
      ]
     },
     "execution_count": 8,
     "metadata": {},
     "output_type": "execute_result"
    }
   ],
   "source": [
    "xpt = torch.tensor(25)\n",
    "xpt"
   ]
  },
  {
   "cell_type": "code",
   "execution_count": 10,
   "id": "2bdd9493",
   "metadata": {},
   "outputs": [
    {
     "name": "stdout",
     "output_type": "stream",
     "text": [
      "torch.int64\n",
      "torch.Size([])\n"
     ]
    }
   ],
   "source": [
    "print(xpt.dtype)\n",
    "print(xpt.shape)"
   ]
  },
  {
   "cell_type": "markdown",
   "id": "d5e95bd0",
   "metadata": {},
   "source": [
    "# Scalars in Tensorflow\n",
    "- tensors created with wrapper\n",
    "- tf.Variable\n",
    "- tf.constant\n",
    "- tf.placeholder\n",
    "- tf.SparseTensor\n",
    "\n",
    "-- easity convert to and fromm numpy arrays"
   ]
  },
  {
   "cell_type": "code",
   "execution_count": null,
   "id": "70396919",
   "metadata": {},
   "outputs": [],
   "source": []
  },
  {
   "cell_type": "code",
   "execution_count": null,
   "id": "d434f45f",
   "metadata": {},
   "outputs": [],
   "source": []
  }
 ],
 "metadata": {
  "kernelspec": {
   "display_name": ".venv (3.11.8)",
   "language": "python",
   "name": "python3"
  },
  "language_info": {
   "codemirror_mode": {
    "name": "ipython",
    "version": 3
   },
   "file_extension": ".py",
   "mimetype": "text/x-python",
   "name": "python",
   "nbconvert_exporter": "python",
   "pygments_lexer": "ipython3",
   "version": "3.11.8"
  }
 },
 "nbformat": 4,
 "nbformat_minor": 5
}
