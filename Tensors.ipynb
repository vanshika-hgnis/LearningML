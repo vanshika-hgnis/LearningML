{
 "cells": [
  {
   "cell_type": "code",
   "execution_count": 1,
   "id": "f805b53c",
   "metadata": {},
   "outputs": [
    {
     "data": {
      "text/plain": [
       "25"
      ]
     },
     "execution_count": 1,
     "metadata": {},
     "output_type": "execute_result"
    }
   ],
   "source": [
    "x = 25\n",
    "x"
   ]
  },
  {
   "cell_type": "code",
   "execution_count": 2,
   "id": "7730da19",
   "metadata": {},
   "outputs": [
    {
     "data": {
      "text/plain": [
       "int"
      ]
     },
     "execution_count": 2,
     "metadata": {},
     "output_type": "execute_result"
    }
   ],
   "source": [
    "type(x)"
   ]
  },
  {
   "cell_type": "code",
   "execution_count": 3,
   "id": "e90ffc29",
   "metadata": {},
   "outputs": [],
   "source": [
    "y = 3\n"
   ]
  },
  {
   "cell_type": "code",
   "execution_count": 4,
   "id": "db348b25",
   "metadata": {},
   "outputs": [
    {
     "data": {
      "text/plain": [
       "28"
      ]
     },
     "execution_count": 4,
     "metadata": {},
     "output_type": "execute_result"
    }
   ],
   "source": [
    "pysum = x+y\n",
    "pysum"
   ]
  },
  {
   "cell_type": "code",
   "execution_count": 5,
   "id": "41e6e647",
   "metadata": {},
   "outputs": [
    {
     "data": {
      "text/plain": [
       "int"
      ]
     },
     "execution_count": 5,
     "metadata": {},
     "output_type": "execute_result"
    }
   ],
   "source": [
    "type(pysum)"
   ]
  },
  {
   "cell_type": "code",
   "execution_count": 6,
   "id": "2af73f12",
   "metadata": {},
   "outputs": [
    {
     "data": {
      "text/plain": [
       "float"
      ]
     },
     "execution_count": 6,
     "metadata": {},
     "output_type": "execute_result"
    }
   ],
   "source": [
    "xfloat = 25.0\n",
    "fsum = xfloat + y\n",
    "type(fsum)"
   ]
  },
  {
   "cell_type": "markdown",
   "id": "11734fa8",
   "metadata": {},
   "source": [
    "# Pytorch\n",
    "- pytorch tensors are to be pytonic -- behave like numpy arrays\n",
    "- are easier for operations on GPU\n",
    "- for automatic differenciation"
   ]
  },
  {
   "cell_type": "code",
   "execution_count": 7,
   "id": "8fa6214d",
   "metadata": {},
   "outputs": [],
   "source": [
    "import torch\n"
   ]
  },
  {
   "cell_type": "code",
   "execution_count": 8,
   "id": "21b99fd2",
   "metadata": {},
   "outputs": [
    {
     "data": {
      "text/plain": [
       "tensor(25)"
      ]
     },
     "execution_count": 8,
     "metadata": {},
     "output_type": "execute_result"
    }
   ],
   "source": [
    "xpt = torch.tensor(25)\n",
    "xpt"
   ]
  },
  {
   "cell_type": "code",
   "execution_count": 10,
   "id": "2bdd9493",
   "metadata": {},
   "outputs": [
    {
     "name": "stdout",
     "output_type": "stream",
     "text": [
      "torch.int64\n",
      "torch.Size([])\n"
     ]
    }
   ],
   "source": [
    "print(xpt.dtype)\n",
    "print(xpt.shape)"
   ]
  },
  {
   "cell_type": "markdown",
   "id": "d5e95bd0",
   "metadata": {},
   "source": [
    "# Scalars in Tensorflow\n",
    "- tensors created with wrapper\n",
    "- tf.Variable\n",
    "- tf.constant\n",
    "- tf.placeholder\n",
    "- tf.SparseTensor\n",
    "\n",
    "-- easity convert to and fromm numpy arrays"
   ]
  },
  {
   "cell_type": "code",
   "execution_count": 2,
   "id": "70396919",
   "metadata": {},
   "outputs": [
    {
     "name": "stdout",
     "output_type": "stream",
     "text": [
      "2.16.1\n"
     ]
    }
   ],
   "source": [
    "import tensorflow as tf\n",
    "print(tf.__version__)\n",
    "\n"
   ]
  },
  {
   "cell_type": "code",
   "execution_count": 4,
   "id": "d434f45f",
   "metadata": {},
   "outputs": [
    {
     "data": {
      "text/plain": [
       "<tf.Variable 'Variable:0' shape=() dtype=int16, numpy=23>"
      ]
     },
     "execution_count": 4,
     "metadata": {},
     "output_type": "execute_result"
    }
   ],
   "source": [
    "xtf = tf.Variable(23,dtype=tf.int16)\n",
    "xtf"
   ]
  },
  {
   "cell_type": "code",
   "execution_count": 5,
   "id": "948def37",
   "metadata": {},
   "outputs": [
    {
     "data": {
      "text/plain": [
       "TensorShape([])"
      ]
     },
     "execution_count": 5,
     "metadata": {},
     "output_type": "execute_result"
    }
   ],
   "source": [
    "xtf.shape"
   ]
  },
  {
   "cell_type": "code",
   "execution_count": 6,
   "id": "5e787531",
   "metadata": {},
   "outputs": [
    {
     "data": {
      "text/plain": [
       "<tf.Variable 'Variable:0' shape=() dtype=int16, numpy=3>"
      ]
     },
     "execution_count": 6,
     "metadata": {},
     "output_type": "execute_result"
    }
   ],
   "source": [
    "ytf = tf.Variable(3,dtype=tf.int16)\n",
    "ytf"
   ]
  },
  {
   "cell_type": "code",
   "execution_count": 8,
   "id": "ae64e416",
   "metadata": {},
   "outputs": [
    {
     "name": "stdout",
     "output_type": "stream",
     "text": [
      "tf.Tensor(26, shape=(), dtype=int16)\n",
      "tf.Tensor(26, shape=(), dtype=int16)\n"
     ]
    }
   ],
   "source": [
    "sumi = xtf + ytf\n",
    "sumtf = tf.add(xtf,ytf)\n",
    "print(sumi)\n",
    "print(sumtf)"
   ]
  },
  {
   "cell_type": "code",
   "execution_count": 11,
   "id": "623eaecd",
   "metadata": {},
   "outputs": [
    {
     "data": {
      "text/plain": [
       "<tf.Tensor: shape=(), dtype=int16, numpy=26>"
      ]
     },
     "execution_count": 11,
     "metadata": {},
     "output_type": "execute_result"
    }
   ],
   "source": [
    "sumtf.numpy()\n",
    "sumtf"
   ]
  },
  {
   "cell_type": "code",
   "execution_count": 12,
   "id": "93c70857",
   "metadata": {},
   "outputs": [
    {
     "data": {
      "text/plain": [
       "<tf.Variable 'Variable:0' shape=() dtype=float16, numpy=25.0>"
      ]
     },
     "execution_count": 12,
     "metadata": {},
     "output_type": "execute_result"
    }
   ],
   "source": [
    "tffloat = tf.Variable(25,dtype=tf.float16)\n",
    "tffloat"
   ]
  },
  {
   "cell_type": "code",
   "execution_count": null,
   "id": "9d308a74",
   "metadata": {},
   "outputs": [],
   "source": []
  }
 ],
 "metadata": {
  "kernelspec": {
   "display_name": ".venv (3.11.8)",
   "language": "python",
   "name": "python3"
  },
  "language_info": {
   "codemirror_mode": {
    "name": "ipython",
    "version": 3
   },
   "file_extension": ".py",
   "mimetype": "text/x-python",
   "name": "python",
   "nbconvert_exporter": "python",
   "pygments_lexer": "ipython3",
   "version": "3.11.8"
  }
 },
 "nbformat": 4,
 "nbformat_minor": 5
}
